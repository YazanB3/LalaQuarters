{
 "cells": [
  {
   "cell_type": "code",
   "execution_count": 29,
   "metadata": {},
   "outputs": [
    {
     "name": "stdout",
     "output_type": "stream",
     "text": [
      "['1000 ord av novell', 'översätt text till tyska']\n",
      "['bönor i tomatsås']\n"
     ]
    }
   ],
   "source": [
    "import random as r\n",
    "#('', )\n",
    "\n",
    "tasks = ['översätt text till tyska', '1000 ord av novell', 'svara på Telegram', \n",
    "        'svara på Whatsapp', 'svara på Skype & WeChat', 'svara på Interpals & insta', \n",
    "        '50 push-ups', '100 sit-ups', 'vitaminer', 'dagens Deutsch',\n",
    "        '1 kapitel bok', 'ryska 10 nya ord', 'jnan', 'måltid'\n",
    "        ]\n",
    "print(r.choices(tasks, weights = [4, 5, 6, 6, 3, 4, 6, 6, 10, 7, 5, 6, 4, 10], k=2))\n",
    "\n",
    "todaystasks = ['sök 5 st jobb', 'aktivitetsrapportera', 'Sasha',\n",
    "              'sök 5 boenden']\n",
    "\n",
    "måltider = ['valnötter', 'blandade bönor', 'bönor i tomatsås', \n",
    "           'pizza', 'cashews', 'soppa', 'keso', 'pasta', 'bananer', \n",
    "           'bär', 'pie', 'couscous/ris', 'sallad', 'ägg',\n",
    "           'marmelad', 'te/iste', 'vatten', 'gryn',\n",
    "           'mackor med ost', 'mjölk', 'hamburgare/korv', 'nudlar']\n",
    "\n",
    "print(r.choices(måltider, weights = [4, 6, 6, 8, 3, 10, 8, 3, \n",
    "                                     2, 4, 1, 2, 4, 7, 3, 7, \n",
    "                                     10, 4, 8, 8, 4, 8], k=1))"
   ]
  },
  {
   "cell_type": "code",
   "execution_count": 22,
   "metadata": {},
   "outputs": [
    {
     "name": "stdout",
     "output_type": "stream",
     "text": [
      "['Domi', 'Lyanne', 'Daria']\n"
     ]
    }
   ],
   "source": [
    "telegram = ['Dashushta', 'Dasha', 'Daria', 'Natasha', 'Mahsa', \n",
    "            'Katya int', 'Katyusha', 'Lyanne', 'Domi', 'Diana'\n",
    "           ]\n",
    "print(r.choices(telegram, weights = [8, 10, 8, 6, 1, 1, 6, 8, 10, 6], k=3))"
   ]
  },
  {
   "cell_type": "code",
   "execution_count": 23,
   "metadata": {},
   "outputs": [
    {
     "name": "stdout",
     "output_type": "stream",
     "text": [
      "['Arina', 'Sasha', 'Clara']\n"
     ]
    }
   ],
   "source": [
    "whatsapp = ['Tammy', 'Sasha', 'Clara', 'Nastya', 'Nastyona', \n",
    "            'Zsofie', 'Svetlana', 'Tanya', 'Olga', 'Maylee', 'Ruta', \n",
    "            'Zuzanna', 'Arina', 'Julia', 'Ayat', 'Claudia', 'Cu'\n",
    "           ]\n",
    "print(r.choices(whatsapp, weights = [8, 10, 6, 1, 1, 2, 6, 2, 8, 2, 2, 6, 10, 6, 6, 1, 1], k=3))"
   ]
  }
 ],
 "metadata": {
  "kernelspec": {
   "display_name": "Python 3",
   "language": "python",
   "name": "python3"
  },
  "language_info": {
   "codemirror_mode": {
    "name": "ipython",
    "version": 3
   },
   "file_extension": ".py",
   "mimetype": "text/x-python",
   "name": "python",
   "nbconvert_exporter": "python",
   "pygments_lexer": "ipython3",
   "version": "3.8.3"
  }
 },
 "nbformat": 4,
 "nbformat_minor": 4
}
