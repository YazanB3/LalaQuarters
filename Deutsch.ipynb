{
 "cells": [
  {
   "cell_type": "code",
   "execution_count": 300,
   "metadata": {
    "scrolled": true
   },
   "outputs": [
    {
     "name": "stdout",
     "output_type": "stream",
     "text": [
      "Das könnte dann Buttigieg oder die Senatorin Amy Klobuchar aus Minnesota sein, \n",
      "die nach einem achtbaren dritten Platz in New Hampshire \n",
      "allerdings keinen Fuss auf den Boden bekam.\n",
      "you p\n",
      "future\n",
      "genitive\n",
      "Ihr konntet nicht, nach einem achtbaren dritten Platz in der Stadt, allerdings einen Fuß auf den Boden bekommen.\n"
     ]
    }
   ],
   "source": [
    "#Pick random sentence from Kernel 5 or ManyThings\n",
    "#Use different verbs & tenses\n",
    "#Use different nouns & situations (pronouns, cases, definitive, negation, and plurals)\n",
    "\n",
    "caseslist = ['nominative', 'accusative', 'dative', 'genitive']\n",
    "tenselist = ['past perfect', 'past', 'present perfect', \n",
    "             'present', 'future', 'wish', 'imperative']\n",
    "pronounlist = ['I', 'you', 'he', 'she', \n",
    "                'it', 'we', 'you p', 'they']\n",
    "\n",
    "ManyThingsSentence = \"\"\"Das könnte dann Buttigieg oder die Senatorin Amy Klobuchar aus Minnesota sein, \n",
    "die nach einem achtbaren dritten Platz in New Hampshire \n",
    "allerdings keinen Fuss auf den Boden bekam.\"\"\"\n",
    "\n",
    "print(ManyThingsSentence)\n",
    "\n",
    "a = rand.choice(pronounlist)\n",
    "print(a)\n",
    "\n",
    "b = rand.choice(tenselist)\n",
    "print(b)\n",
    "\n",
    "c = rand.choice(caseslist)\n",
    "print(c)\n",
    "\n",
    "d = input()"
   ]
  },
  {
   "cell_type": "code",
   "execution_count": 255,
   "metadata": {},
   "outputs": [
    {
     "name": "stdout",
     "output_type": "stream",
     "text": [
      "2020-12-28\n"
     ]
    }
   ],
   "source": [
    "import random as rand\n",
    "from datetime import date, timedelta\n",
    "import time\n",
    "\n",
    "def str_time_prop(start, end, format, prop):\n",
    "    stime = time.mktime(time.strptime(start, format))\n",
    "    etime = time.mktime(time.strptime(end, format))\n",
    "    ptime = stime + prop * (etime - stime)\n",
    "    return time.strftime(format, time.localtime(ptime))\n",
    "\n",
    "def random_date(start, end, prop):\n",
    "    return str_time_prop(start, end, '%Y-%m-%d', prop)\n",
    "\n",
    "#enddate is not included in generated result\n",
    "print(random_date(\"2020-12-27\", \"2021-01-01\", rand.random()))"
   ]
  },
  {
   "cell_type": "code",
   "execution_count": 287,
   "metadata": {},
   "outputs": [
    {
     "data": {
      "text/plain": [
       "'je länger, je lieber'"
      ]
     },
     "execution_count": 287,
     "metadata": {},
     "output_type": "execute_result"
    }
   ],
   "source": [
    "#plug generated result into Google News and learn top contexts\n",
    "rand.choice(L20201228)"
   ]
  },
  {
   "cell_type": "code",
   "execution_count": 298,
   "metadata": {},
   "outputs": [],
   "source": [
    "L20201227 = ['mach bitte das Licht an/aus',\n",
    "            'Verbandskasten', 'Verbandpäckchen',\n",
    "            'greifen - griff - gegriffen', 'zum Greifen nahe sein',\n",
    "            'ich würde sie mir mal greifen', 'zur Flasche greifen',\n",
    "            'tief in die Tasche greifen', 'nach den Sternen greifen',\n",
    "            'zum Äußersten greifen = resort to extreme measures', 'zu kurz greifen',\n",
    "            'auf der Flucht', 'als jemals zuvor', 'nach Angaben',\n",
    "            'um Zahl gestiegen', 'an erster Stelle', 'neben', 'bis Anfang Dezember',\n",
    "            'obdachlos', 'ebenfalls', 'gälten als vermisst', 'anders als sonst',\n",
    "            'der Einladung folgen', 'im Zuge der Pandemie', 'Auch wenn',\n",
    "            'einiges', 'es war gelungen',\n",
    "            'die Wirtschaftsprüfung ist dir gut gelungen',\n",
    "            'etwas wurde von allen abverlangt',\n",
    "            'ich denke, dass du ihnen zu viel abverlangt hast',\n",
    "            'ich sehe, sie sind wieder dabei', 'würdest du statt meiner gehen?',\n",
    "            'statt einer Feier', 'wir sind ganz warm ums Herz',\n",
    "            'das Thema zog sich wie ein roter Faden durch die Ansprache',\n",
    "            'auf der Ebene von', 'eben an jenem Tag', 'er ist eben angekommen',\n",
    "            'jetzt eben', 'vor ein paar Tagen', 'mal eben', \n",
    "            'sie haben den Takt vor gegeben']\n",
    "\n",
    "L20201228 = ['jemals', 'je',\n",
    "            'für je drei Stück zahlst du einen Euro',\n",
    "            'je zwei Schüler aus jeder Klasse', 'ich gebe euch je zwei Äpfel',\n",
    "            'je Person zwei Stück', 'je zehn Exemplare, ein Freiexemplar',\n",
    "            'je eher, desto besser', 'je länger, je lieber',\n",
    "            'je nach', 'je nach Wunsch', #https://hinative.com/en-US/questions/16016421\n",
    "            'jedenfalls nichts neues', 'Unterbrechnung',\n",
    "            'nach einer kurzen Unterbrechung', 'unterbreiten', \n",
    "            'ich unterbreite dir ein Angebot', 'unterbringen'\n",
    "            'ich kann in meinem Auto noch einen unterbringen',\n",
    "            'ich kenne sie, aber ich kann sie nirgends unterbringen',\n",
    "            'er ist gut untergebracht ... und prima versorgt',\n",
    "            'Boden', 'auf Schwedischem Boden', 'ich habe festen Boden unter den Füßen',\n",
    "            'sie hat den Boden unter den Füßen verloren', \n",
    "            'er hat keinen Fuß auf den Boden bekommen',\n",
    "            'mir wurde der Boden zu heiß', \n",
    "            'ich hätte vor Scham im Boden versinken können',\n",
    "            'sie sind am Boden zerstört', 'wir haben an Boden gewonnen',\n",
    "            'er hat etwas aus dem Boden gestampft',\n",
    "            'sie steht auf dem Boden der Wissenschaft',\n",
    "            'wir wurden hart auf den Boden der Wirklichkeit zurückgeholt',\n",
    "            'Bleibe bitte auf dem Boden der Tatsachen',\n",
    "            'du bewegst dich auf unsicherem Boden',\n",
    "            'Bodenfrost', 'bodenlos', 'Geisel', 'Wir wurden als Geiseln genommen',\n",
    "            'Geiß', 'Geißel', 'es schaltet sich automatisch aus',\n",
    "            'kein Ausschank an Jugendliche unter 18 Jahren',\n",
    "            'halte die Ausschau', 'die Kleiden sind in der Wäsche',\n",
    "            'Es machte, dass ich dumm aus der Wäsche geguckt habe',\n",
    "            'Wäscheklammer', 'Wäschekorb', 'ich habe alles gewaschen',\n",
    "            'du sollst dir die Hände waschen', 'das hat sich gewaschen',\n",
    "            'eine Geldbuße, die sich gewaschen hat', 'eine Ohrfeige',\n",
    "            'für diesen Job fehlt mir die nötige Qualifikationen',\n",
    "            'Die Mannschaft hat sich zum Vierteilsfinal qualifiziert',\n",
    "            'du hast dich viel wissenschaftlich qualifiziert',\n",
    "            'von der Qualität her,', 'die Ware ist von ausgezeichneter Qualität',\n",
    "            'minderwertig', 'mit Mühe', 'er hat überflüßige Pfunde abgespeckt',\n",
    "            'Kronebetrag', 'im Vergleich zu jenem', 'in verschiedenen/mehreren raten',\n",
    "            'bzw', 'ich habe dieses gestern erworben', \n",
    "            'sie bestreitet ihren Lebensunterhalt durch einen normalen Job']\n",
    "\n",
    "L20201229 = ['Warmwasserheizung', 'Warnblickleuchte', 'Arztrechnung',\n",
    "            'Arzttermin', 'warum äußerst du dich unangemessen?',\n",
    "            'das ist mir immer so unangenehm', \n",
    "            'es ist mir unangenehm, dass ich dich gestört habe',\n",
    "            'wir wollten nicht, ihn unangenehm berürhen',\n",
    "            'unangepasst', 'unannehmbar',\n",
    "            'sie hat Unannehmlichkeiten mit mir', 'Sonderschule', 'Sonderwünsche', \n",
    "            'Sonderzeichen', 'er hat in einem Film mitgespielt',\n",
    "            'ich will nicht bei einem Orchester mitspielen',\n",
    "            'wer spielt mit?', 'das einzige, dass du tun mußt, ist mitspielen',\n",
    "            'ich spaziere gern, wenn das Wetter mitspielt',\n",
    "            'sie hatten mir übel mitgespielt',\n",
    "            'wir haben nicht dir ein Mitspracherecht eingeräumt',\n",
    "            'sie fährst in Schlangenlinien', 'Schlangestehen',\n",
    "            'dein Kleid macht dich schlank', 'sie kamen zuerst an',\n",
    "            'das muss man morgen früh zuerst machen', 'zum ersten Mal',\n",
    "            'Anfangs', 'fahren Sie doch zu!', 'ihr habt genau auf mich zugefahren',\n",
    "            'das ist Zufall', 'wir trafen per Zufall uns im Bus',\n",
    "            'es ist kein Zufall, dass du alle deine Prüfungen bestanden hast',\n",
    "            'es war ein glücklicher Zufall, dass wir uns getroffen haben',\n",
    "            'welch ein Zufall!', 'wie es der Zufall so will',\n",
    "            'ich überlasse es gern dem Zufall']\n",
    "\n",
    "L20201230 = ['sie machten Angaben über die Situation', 'laut Angaben ...',\n",
    "            'nach Ihren eigenen Angaben', \n",
    "            'vergiss nicht die Angabe des Datums auf dem Brief',\n",
    "            'Prahlerei', 'Abweichung von der Norm', 'abweisen',\n",
    "            'wir lassen uns nicht abweisen', 'abwendbar',\n",
    "            'warum siehst du so abweisend aus?', 'Abwerben von Arbeitskräften',\n",
    "            'die Bäume werfen ihre Blätter im Herbst ab',\n",
    "            'ich weiß nicht, wo man zufässt oder es bleiben lässt',\n",
    "            'ist es zu viel verlangt,dass du mal mit zufässt?',\n",
    "            'der Vogel ist uns zugeflogen', 'ihr fliegt alles nur so zu',\n",
    "            'warum sucht ihr Zuflucht hier?', 'ich nehme gern zu dir Zuflucht',\n",
    "            'du bist meine letzte Zuflucht', 'Zufluss kalter Meeresluft',\n",
    "            'Ablenkung', 'wer sich zu Humor vom Profi will, muss nicht lange überlegen',\n",
    "            'zurückreichend bis', 'Zeigt uns ihr den Mittelfinger mit diese?']\n",
    "\n",
    "L20201231 = ['Freiheit, Gleichheit, Brüderlichkeit',\n",
    "            'persönliche Freiheit', 'alle Freiheiten haben',\n",
    "            'ich nehme mir die Freiheit, die Arbeit zu tun',\n",
    "            'bildhaft', 'bildhauer', 'bildhübsch', 'bildlich',\n",
    "            'stell dir das mal bildlich vor!', \n",
    "            'du sollst dir es bildlich vorstellen',\n",
    "            'Konditionsschwäche', 'konditionsstark',\n",
    "            'Kondolenzschreiben', 'kondolieren',\n",
    "            'die Ausdruckskraft', 'ausdruckslos/ausdrucksvoll', 'Ausdrücksmöglichkeit',\n",
    "            'was ist das für eine Ausdrucksweise!', 'ausdünnen',\n",
    "            'Ausdünstung', 'es mangelt an Innovation',\n",
    "            'wir ließen es an nichts mangeln', 'es mangelt dir an Kraft',\n",
    "            'mangelndes Selbstvertrauen', 'wegen mangelnder Aufmerksamkeit',\n",
    "            'das Kino wurde wegen mangelnder Sicherheit geschlossen',\n",
    "            'mangels', 'wir sind Mangelware', 'was sind das für Manieren',\n",
    "            'Voegefühl', 'Sie haben gerichtlig gegen uns vorgegangen',\n",
    "            'die Polizei ging gegen die Demonstranten vor',\n",
    "            'vorgeschichtlich', 'Klimaänderung', 'mit Klimaanlage',\n",
    "            'alle offengebliebenen Probleme', 'offenhalten',\n",
    "            'Offenheit', 'schonungslose Offenheit', 'in aller Offenheit',\n",
    "            'offenkundig', 'die Arktis', 'du machst mich noch mal arm',\n",
    "            'du bist arm an Vitaminen', 'ich wurde um dich ärmer',\n",
    "            'er ist 10 Euro ärmer umsonst', 'Ach, du Armer!',\n",
    "            'armes Schwein', 'sie ist arm dran']"
   ]
  },
  {
   "cell_type": "code",
   "execution_count": 278,
   "metadata": {
    "scrolled": true
   },
   "outputs": [
    {
     "name": "stdout",
     "output_type": "stream",
     "text": [
      "4425\n"
     ]
    }
   ],
   "source": [
    "page = rand.randint(1, 8415)\n",
    "print(page)"
   ]
  },
  {
   "cell_type": "code",
   "execution_count": 285,
   "metadata": {},
   "outputs": [
    {
     "data": {
      "text/plain": [
       "'Das könnte dann Buttigieg oder die Senatorin Amy Klobuchar aus Minnesota sein, \\ndie nach einem achtbaren dritten Platz in New Hampshire \\nallerdings keinen Fuss auf den Boden bekam.'"
      ]
     },
     "execution_count": 285,
     "metadata": {},
     "output_type": "execute_result"
    }
   ],
   "source": [
    "#\"\"\"\n",
    "#Cut a sentence and plug it into cell 1 for practice\n",
    "\"\"\"Je nach Wunsch ist fast jede Topfgröße möglich\"\"\"\n",
    "\"\"\"Vorteil des PendlerAbos ist die größere räumliche Gültigkeit – entweder netzweit oder \n",
    "zumindest in mehreren Tarifzonen, je nach Wunsch der Fahrgäste, so dass auch unterschiedliche \n",
    "Strecken – zum Beispiel in der Freizeit – ohne Zusatzkosten gefahren werden können\"\"\"\n",
    "\"\"\"Außerdem bietet ein Kaufberater für Notebooks und Beamer Hilfe bei der Kaufentscheidung, \n",
    "denn je nach Wunsch genügt manchmal auch ein günstigeres Produkt.\"\"\"\n",
    "\"\"\"Je nach Art des Handicaps bietet der Markt passende Lift-Modelle.\"\"\"\n",
    "\"\"\"Wir können täglich 2500 bis 3000 Menschen testen – \n",
    "je nach Wunsch mit dem Antigen-Schnelltest oder dem PCR-Test\"\"\"\n",
    "\"\"\"Je nach Wunsch des Anwenders können die Tasten \n",
    "mit unterschiedlichen Zeichen belegt werden.\"\"\"\n",
    "\"\"\"Je nach Geschmack können für die \n",
    "perfekte Süße zwei bis drei Esslöffel Zucker hinein.\"\"\""
   ]
  }
 ],
 "metadata": {
  "kernelspec": {
   "display_name": "Python 3",
   "language": "python",
   "name": "python3"
  },
  "language_info": {
   "codemirror_mode": {
    "name": "ipython",
    "version": 3
   },
   "file_extension": ".py",
   "mimetype": "text/x-python",
   "name": "python",
   "nbconvert_exporter": "python",
   "pygments_lexer": "ipython3",
   "version": "3.8.3"
  }
 },
 "nbformat": 4,
 "nbformat_minor": 4
}
